{
 "cells": [
  {
   "cell_type": "code",
   "execution_count": 1,
   "metadata": {},
   "outputs": [],
   "source": [
    "import os\n",
    "import pandas as pd\n",
    "import matplotlib.pyplot as plt\n",
    "from tqdm import tqdm\n",
    "import re\n",
    "import string\n",
    "from nltk.corpus import stopwords\n",
    "import unicodedata\n",
    "from fuzzywuzzy import process, fuzz\n",
    "\n",
    "tqdm.pandas()"
   ]
  },
  {
   "cell_type": "markdown",
   "metadata": {},
   "source": [
    "## Concatenation and Saving Final Corpus"
   ]
  },
  {
   "cell_type": "raw",
   "metadata": {},
   "source": [
    "# paths = [f\"data/data/{i}\" for i in os.listdir(\"data/data\")]"
   ]
  },
  {
   "cell_type": "raw",
   "metadata": {},
   "source": [
    "# Correctly sort the file paths numerically\n",
    "file_paths = sorted(os.listdir(\"data/data\"), key=lambda x: int(x.split('.')[0]))\n",
    "file_paths = [f\"data/data/{file_name}\" for file_name in file_paths]"
   ]
  },
  {
   "cell_type": "raw",
   "metadata": {},
   "source": [
    "data = pd.DataFrame()\n",
    "\n",
    "# Define your slices based on file counts, not file names\n",
    "chunks = [(0, 10000), (10000, 20000), (20000, 30000), (30000, 40000), (40000, len(file_paths))]\n",
    "for start, end in chunks:\n",
    "    temp_df = pd.DataFrame()\n",
    "    for path in tqdm(file_paths[start:end]):\n",
    "        dt = pd.read_csv(path)\n",
    "        temp_df = pd.concat((temp_df, dt), ignore_index=True)\n",
    "    # Optionally, process temp_df here or directly append to 'data'\n",
    "    data = pd.concat([data, temp_df], ignore_index=True)\n",
    "    \n",
    "display(data.head())\n",
    "data.info()"
   ]
  },
  {
   "cell_type": "raw",
   "metadata": {},
   "source": [
    "# data1 = pd.DataFrame()\n",
    "# data2 = pd.DataFrame()\n",
    "# data3 = pd.DataFrame()\n",
    "# data4 = pd.DataFrame()\n",
    "# data5 = pd.DataFrame()\n",
    "# data = pd.DataFrame()"
   ]
  },
  {
   "cell_type": "raw",
   "metadata": {},
   "source": [
    "# for path in tqdm(paths[0:10000]):\n",
    "#     dt = pd.read_csv(path)\n",
    "#     data1 = pd.concat((data1, dt), ignore_index=True)\n",
    "\n",
    "# for path in tqdm(paths[10000:20000]):\n",
    "#     dt = pd.read_csv(path)\n",
    "#     data2 = pd.concat((data2, dt), ignore_index=True)\n",
    "\n",
    "# for path in tqdm(paths[20000:30000]):\n",
    "#     dt = pd.read_csv(path)\n",
    "#     data3 = pd.concat((data3, dt), ignore_index=True)\n",
    "    \n",
    "# for path in tqdm(paths[30000:40000]):\n",
    "#     dt = pd.read_csv(path)\n",
    "#     data4 = pd.concat((data4, dt), ignore_index=True)\n",
    "    \n",
    "# for path in tqdm(paths[40000:len(paths)]):\n",
    "#     dt = pd.read_csv(path)\n",
    "#     data5 = pd.concat((data5, dt), ignore_index=True)"
   ]
  },
  {
   "cell_type": "raw",
   "metadata": {},
   "source": [
    "data = pd.concat((data1, data2, data3, data4, data5), ignore_index=True)\n",
    "#data1, data2, data3, data4, data5 = None, None, None, None, None"
   ]
  },
  {
   "cell_type": "raw",
   "metadata": {},
   "source": [
    "# Convert the specified columns to lowercase\n",
    "for column in ['text', 'document_name', 'document_type']:\n",
    "    data[column] = data[column].str.lower()\n",
    "\n",
    "# Display the first few and last few rows of the DataFrame\n",
    "display(data.head())\n",
    "display(data.tail())\n",
    "\n",
    "# Display information about the DataFrame\n",
    "data.info()"
   ]
  },
  {
   "cell_type": "raw",
   "metadata": {},
   "source": [
    "data.to_parquet('Full_Legislation.parquet', index=False)"
   ]
  },
  {
   "cell_type": "markdown",
   "metadata": {},
   "source": [
    "## Corpus Preprocessing using NLP Techniques"
   ]
  },
  {
   "cell_type": "code",
   "execution_count": 2,
   "metadata": {},
   "outputs": [
    {
     "data": {
      "text/html": [
       "<div>\n",
       "<style scoped>\n",
       "    .dataframe tbody tr th:only-of-type {\n",
       "        vertical-align: middle;\n",
       "    }\n",
       "\n",
       "    .dataframe tbody tr th {\n",
       "        vertical-align: top;\n",
       "    }\n",
       "\n",
       "    .dataframe thead th {\n",
       "        text-align: right;\n",
       "    }\n",
       "</style>\n",
       "<table border=\"1\" class=\"dataframe\">\n",
       "  <thead>\n",
       "    <tr style=\"text-align: right;\">\n",
       "      <th></th>\n",
       "      <th>text</th>\n",
       "      <th>unique_word_count</th>\n",
       "    </tr>\n",
       "  </thead>\n",
       "  <tbody>\n",
       "    <tr>\n",
       "      <th>0</th>\n",
       "      <td>azərbaycan respublikası mülki məcəlləsinin təs...</td>\n",
       "      <td>13</td>\n",
       "    </tr>\n",
       "    <tr>\n",
       "      <th>1</th>\n",
       "      <td>azərbaycan respublikasının mülki məcəlləsi təs...</td>\n",
       "      <td>6</td>\n",
       "    </tr>\n",
       "    <tr>\n",
       "      <th>2</th>\n",
       "      <td>azərbaycan respublikasının mülki məcəlləsi qüv...</td>\n",
       "      <td>24</td>\n",
       "    </tr>\n",
       "    <tr>\n",
       "      <th>3</th>\n",
       "      <td>azərbaycan respublikasının mülki məcəlləsinə d...</td>\n",
       "      <td>35</td>\n",
       "    </tr>\n",
       "    <tr>\n",
       "      <th>4</th>\n",
       "      <td>azərbaycan ssr mülki mülki prosessual məcəlləl...</td>\n",
       "      <td>17</td>\n",
       "    </tr>\n",
       "  </tbody>\n",
       "</table>\n",
       "</div>"
      ],
      "text/plain": [
       "                                                text  unique_word_count\n",
       "0  azərbaycan respublikası mülki məcəlləsinin təs...                 13\n",
       "1  azərbaycan respublikasının mülki məcəlləsi təs...                  6\n",
       "2  azərbaycan respublikasının mülki məcəlləsi qüv...                 24\n",
       "3  azərbaycan respublikasının mülki məcəlləsinə d...                 35\n",
       "4  azərbaycan ssr mülki mülki prosessual məcəlləl...                 17"
      ]
     },
     "metadata": {},
     "output_type": "display_data"
    },
    {
     "data": {
      "text/html": [
       "<div>\n",
       "<style scoped>\n",
       "    .dataframe tbody tr th:only-of-type {\n",
       "        vertical-align: middle;\n",
       "    }\n",
       "\n",
       "    .dataframe tbody tr th {\n",
       "        vertical-align: top;\n",
       "    }\n",
       "\n",
       "    .dataframe thead th {\n",
       "        text-align: right;\n",
       "    }\n",
       "</style>\n",
       "<table border=\"1\" class=\"dataframe\">\n",
       "  <thead>\n",
       "    <tr style=\"text-align: right;\">\n",
       "      <th></th>\n",
       "      <th>text</th>\n",
       "      <th>unique_word_count</th>\n",
       "    </tr>\n",
       "  </thead>\n",
       "  <tbody>\n",
       "    <tr>\n",
       "      <th>1500188</th>\n",
       "      <td>maddədə istehsal məişət tullantıları sözləri t...</td>\n",
       "      <td>8</td>\n",
       "    </tr>\n",
       "    <tr>\n",
       "      <th>1500189</th>\n",
       "      <td>maddədə istehsal məişət tullantıları sözləri t...</td>\n",
       "      <td>9</td>\n",
       "    </tr>\n",
       "    <tr>\n",
       "      <th>1500190</th>\n",
       "      <td>maddədə sənaye məişət tullantılarının sözləri ...</td>\n",
       "      <td>9</td>\n",
       "    </tr>\n",
       "    <tr>\n",
       "      <th>1500191</th>\n",
       "      <td>qiymətli metallar qiymətli daşlar azərbaycan r...</td>\n",
       "      <td>19</td>\n",
       "    </tr>\n",
       "    <tr>\n",
       "      <th>1500192</th>\n",
       "      <td>yaşıllıqların mühafizəsi azərbaycan respublika...</td>\n",
       "      <td>18</td>\n",
       "    </tr>\n",
       "  </tbody>\n",
       "</table>\n",
       "</div>"
      ],
      "text/plain": [
       "                                                      text  unique_word_count\n",
       "1500188  maddədə istehsal məişət tullantıları sözləri t...                  8\n",
       "1500189  maddədə istehsal məişət tullantıları sözləri t...                  9\n",
       "1500190  maddədə sənaye məişət tullantılarının sözləri ...                  9\n",
       "1500191  qiymətli metallar qiymətli daşlar azərbaycan r...                 19\n",
       "1500192  yaşıllıqların mühafizəsi azərbaycan respublika...                 18"
      ]
     },
     "metadata": {},
     "output_type": "display_data"
    },
    {
     "name": "stdout",
     "output_type": "stream",
     "text": [
      "<class 'pandas.core.frame.DataFrame'>\n",
      "RangeIndex: 1500193 entries, 0 to 1500192\n",
      "Data columns (total 2 columns):\n",
      " #   Column             Non-Null Count    Dtype \n",
      "---  ------             --------------    ----- \n",
      " 0   text               1500193 non-null  object\n",
      " 1   unique_word_count  1500193 non-null  int64 \n",
      "dtypes: int64(1), object(1)\n",
      "memory usage: 22.9+ MB\n"
     ]
    },
    {
     "data": {
      "text/plain": [
       "967905"
      ]
     },
     "metadata": {},
     "output_type": "display_data"
    }
   ],
   "source": [
    "# Define the core path\n",
    "PATH = 'E:/Software/Data Science and AI/NLP/Edliyye/Legal Acts Question Answering/NLP project'\n",
    "\n",
    "text_path = os.path.join(PATH, 'full_qanun_text_chunks.parquet')\n",
    "\n",
    "data = pd.read_parquet(text_path)\n",
    "\n",
    "display(data.head())\n",
    "display(data.tail())\n",
    "data.info()\n",
    "display(len(data['text'].value_counts()))"
   ]
  },
  {
   "cell_type": "markdown",
   "metadata": {},
   "source": [
    "## Preprocessing Text Column"
   ]
  },
  {
   "cell_type": "code",
   "execution_count": 3,
   "metadata": {},
   "outputs": [
    {
     "data": {
      "text/html": [
       "<div>\n",
       "<style scoped>\n",
       "    .dataframe tbody tr th:only-of-type {\n",
       "        vertical-align: middle;\n",
       "    }\n",
       "\n",
       "    .dataframe tbody tr th {\n",
       "        vertical-align: top;\n",
       "    }\n",
       "\n",
       "    .dataframe thead th {\n",
       "        text-align: right;\n",
       "    }\n",
       "</style>\n",
       "<table border=\"1\" class=\"dataframe\">\n",
       "  <thead>\n",
       "    <tr style=\"text-align: right;\">\n",
       "      <th></th>\n",
       "      <th>text</th>\n",
       "      <th>unique_word_count</th>\n",
       "    </tr>\n",
       "  </thead>\n",
       "  <tbody>\n",
       "  </tbody>\n",
       "</table>\n",
       "</div>"
      ],
      "text/plain": [
       "Empty DataFrame\n",
       "Columns: [text, unique_word_count]\n",
       "Index: []"
      ]
     },
     "execution_count": 3,
     "metadata": {},
     "output_type": "execute_result"
    }
   ],
   "source": [
    "data.loc[data['unique_word_count'] > 512]"
   ]
  },
  {
   "cell_type": "code",
   "execution_count": 6,
   "metadata": {},
   "outputs": [
    {
     "data": {
      "text/plain": [
       "967905"
      ]
     },
     "metadata": {},
     "output_type": "display_data"
    },
    {
     "data": {
      "text/plain": [
       "0    azərbaycan respublikası mülki məcəlləsinin təs...\n",
       "1    azərbaycan respublikasının mülki məcəlləsi təs...\n",
       "2    azərbaycan respublikasının mülki məcəlləsi qüv...\n",
       "3    azərbaycan respublikasının mülki məcəlləsinə d...\n",
       "4    azərbaycan ssr mülki mülki prosessual məcəlləl...\n",
       "Name: text, dtype: object"
      ]
     },
     "metadata": {},
     "output_type": "display_data"
    }
   ],
   "source": [
    "display(len(data['text'].value_counts()))\n",
    "display(data['text'].head())"
   ]
  },
  {
   "cell_type": "code",
   "execution_count": null,
   "metadata": {},
   "outputs": [],
   "source": [
    "# Remove Leading/Trailing Spaces\n",
    "def g(text):\n",
    "    return text.strip()\n",
    "\n",
    "data['text'] = data['text'].apply(g)"
   ]
  },
  {
   "cell_type": "code",
   "execution_count": null,
   "metadata": {},
   "outputs": [],
   "source": [
    "# Replace Multiple Spaces with a Single One\n",
    "def g(text):\n",
    "    return re.sub(' +', ' ', text)\n",
    "\n",
    "data['text'] = data['text'].apply(g)"
   ]
  },
  {
   "cell_type": "code",
   "execution_count": null,
   "metadata": {},
   "outputs": [],
   "source": [
    "# Function to normalize text\n",
    "def normalize_text(text):\n",
    "    return unicodedata.normalize('NFC', text)\n",
    "\n",
    "# Apply normalization to 'text' column\n",
    "data['text'] = data['text'].apply(normalize_text)\n",
    "\n",
    "display(len(data['text'].value_counts()))\n",
    "display(data['text'].head())"
   ]
  },
  {
   "cell_type": "code",
   "execution_count": null,
   "metadata": {},
   "outputs": [],
   "source": [
    "# Remove \"\\xa0\" pattern\n",
    "data['text'] = data['text'].str.replace(r'\\xa0', '', regex=True)"
   ]
  },
  {
   "cell_type": "code",
   "execution_count": null,
   "metadata": {},
   "outputs": [],
   "source": [
    "# Replace newline characters\n",
    "data['text'] = data['text'].str.replace('\\n', ' ', regex=True)"
   ]
  },
  {
   "cell_type": "code",
   "execution_count": null,
   "metadata": {},
   "outputs": [],
   "source": [
    "data['text'].loc[data['text'].str.contains('_____________')]"
   ]
  },
  {
   "cell_type": "code",
   "execution_count": 4,
   "metadata": {},
   "outputs": [
    {
     "data": {
      "text/plain": [
       "'5. 30 sentyabr 2014-cü il tarixli 1047-ivqd nömrəli azərbaycan respublikasının qanunu (“azərbaycan” qəzeti, 9 noyabr 2014-cü il, № 245, azərbaycan respublikasının qanunvericilik toplusu, 2014-cü il, № 10, maddə 1167)'"
      ]
     },
     "execution_count": 4,
     "metadata": {},
     "output_type": "execute_result"
    }
   ],
   "source": [
    "data['text'].iloc[500]"
   ]
  },
  {
   "cell_type": "markdown",
   "metadata": {},
   "source": [
    "***Given the importance of preserving the original text, including punctuation, for the semantic search model on Azerbaijani legislation, we should not remove punctuation. This is crucial for accurately matching legal texts, as punctuation can change the meaning of the sentences and affect the search results, because users could write or copy/paste the legal acts as they are in original, including numbers of articles and other symbols!***"
   ]
  },
  {
   "cell_type": "raw",
   "metadata": {},
   "source": [
    "# Remove patterns like [1], [2], ... from 'document_type' column\n",
    "data['text'] = data['text'].str.replace(r'\\[\\d+\\]', '', regex=True)"
   ]
  },
  {
   "cell_type": "code",
   "execution_count": null,
   "metadata": {},
   "outputs": [],
   "source": [
    "# Remove lines of underscores\n",
    "data['text'] = data['text'].str.replace(r'_{2,}', '', regex=True)"
   ]
  },
  {
   "cell_type": "code",
   "execution_count": 5,
   "metadata": {},
   "outputs": [
    {
     "name": "stderr",
     "output_type": "stream",
     "text": [
      "100%|█████████████████████████████████████████████████████████████████████| 1501973/1501973 [00:40<00:00, 37022.11it/s]\n"
     ]
    },
    {
     "data": {
      "text/plain": [
       "990991"
      ]
     },
     "metadata": {},
     "output_type": "display_data"
    },
    {
     "data": {
      "text/plain": [
       "0    azərbaycan respublikası mülki məcəlləsinin təs...\n",
       "1    azərbaycan respublikasının mülki məcəlləsi təs...\n",
       "2    azərbaycan respublikasının mülki məcəlləsi qüv...\n",
       "3    azərbaycan respublikasının mülki məcəlləsinə d...\n",
       "4    azərbaycan ssr mülki və mülki prosessual məcəl...\n",
       "Name: text, dtype: object"
      ]
     },
     "metadata": {},
     "output_type": "display_data"
    }
   ],
   "source": [
    "def del_symbols(data:str):\n",
    "    data = re.sub(r'[^a-zA-ZəƏıIöÖüÜğĞçÇşŞ]', ' ', data)\n",
    "    data = re.sub(r'\\s+', ' ', data)\n",
    "    data = data.strip()\n",
    "    return data\n",
    "\n",
    "data[\"text\"] = data[\"text\"].progress_apply(del_symbols)\n",
    "\n",
    "display(len(data['text'].value_counts()))\n",
    "display(data['text'].head())"
   ]
  },
  {
   "cell_type": "code",
   "execution_count": null,
   "metadata": {},
   "outputs": [],
   "source": [
    "data['text'] = data['text'].str.split().apply(lambda x: [word for word in x if len(word) > 2]).str.join(' ')"
   ]
  },
  {
   "cell_type": "code",
   "execution_count": 9,
   "metadata": {},
   "outputs": [
    {
     "data": {
      "text/plain": [
       "'sentyabr tarixli azərbaycan respublikasının qanunu azərbaycan qəzeti noyabr azərbaycan respublikasının qanunvericilik toplusu'"
      ]
     },
     "execution_count": 9,
     "metadata": {},
     "output_type": "execute_result"
    }
   ],
   "source": [
    "data['text'].iloc[500]"
   ]
  },
  {
   "cell_type": "code",
   "execution_count": 15,
   "metadata": {},
   "outputs": [
    {
     "name": "stderr",
     "output_type": "stream",
     "text": [
      "100%|█████████████████████████████████████████████████████████████████████| 1501973/1501973 [01:12<00:00, 20760.47it/s]\n"
     ]
    },
    {
     "data": {
      "text/plain": [
       "970801"
      ]
     },
     "metadata": {},
     "output_type": "display_data"
    },
    {
     "data": {
      "text/plain": [
       "0    azərbaycan respublikası mülki məcəlləsinin təs...\n",
       "1    azərbaycan respublikasının mülki məcəlləsi təs...\n",
       "2    azərbaycan respublikasının mülki məcəlləsi qüv...\n",
       "3    azərbaycan respublikasının mülki məcəlləsinə d...\n",
       "4    azərbaycan ssr mülki mülki prosessual məcəlləl...\n",
       "Name: text, dtype: object"
      ]
     },
     "metadata": {},
     "output_type": "display_data"
    }
   ],
   "source": [
    "# Load Azerbaijani stopwords and add additional ones\n",
    "az_stopwords = list(stopwords.words(\"azerbaijani\"))\n",
    "az_stopwords.append(\"i\")\n",
    "az_stopwords.append(\"b\")\n",
    "az_stopwords.append(\"ivqd\")\n",
    "az_stopwords.append(\"maddə\")\n",
    "az_stopwords.append(\"nömrəli\")\n",
    "az_stopwords.append(\"si\")\n",
    "\n",
    "# Function to remove stopwords\n",
    "def del_stopwords(data: str):\n",
    "    data = \" \".join([i for i in data.split() if i not in az_stopwords])\n",
    "    return data\n",
    "\n",
    "data[\"text\"] = data[\"text\"].progress_apply(del_stopwords)\n",
    "\n",
    "display(len(data['text'].value_counts()))\n",
    "display(data['text'].head())"
   ]
  },
  {
   "cell_type": "code",
   "execution_count": null,
   "metadata": {},
   "outputs": [],
   "source": [
    "# Function to count unique words in a text\n",
    "def count_unique_words(text):\n",
    "    words = text.split()\n",
    "    unique_words = set(words)\n",
    "    return len(unique_words)\n",
    "\n",
    "# Function to split text into chunks with a maximum of max_unique_words unique words\n",
    "def split_text_into_chunks(text, max_unique_words=512):\n",
    "    words = text.split()\n",
    "    chunks = []\n",
    "    chunk = []\n",
    "    unique_words = set()\n",
    "\n",
    "    for word in words:\n",
    "        if word not in unique_words:\n",
    "            if len(unique_words) >= max_unique_words:\n",
    "                chunks.append(' '.join(chunk))\n",
    "                chunk = []\n",
    "                unique_words = set()\n",
    "        chunk.append(word)\n",
    "        unique_words.add(word)\n",
    "\n",
    "    if chunk:\n",
    "        chunks.append(' '.join(chunk))\n",
    "    \n",
    "    return chunks\n",
    "\n",
    "# Apply the function to split texts into chunks and flatten the list of chunks into a new DataFrame\n",
    "rows = []\n",
    "for _, row in data.iterrows():\n",
    "    chunks = split_text_into_chunks(row['text'])\n",
    "    for chunk in chunks:\n",
    "        rows.append({'text': chunk, 'unique_word_count': count_unique_words(chunk)})\n",
    "\n",
    "chunked_data = pd.DataFrame(rows)\n",
    "\n",
    "# Ensure each chunk has at most 512 unique words\n",
    "chunked_data = chunked_data[chunked_data['unique_word_count'] <= 512]\n",
    "\n",
    "# Output the chunked_data DataFrame\n",
    "display(chunked_data)\n",
    "\n",
    "#chunked_data.to_parquet('./full_qanun_text_chunks.parquet', index=False)"
   ]
  },
  {
   "cell_type": "code",
   "execution_count": null,
   "metadata": {},
   "outputs": [],
   "source": []
  },
  {
   "cell_type": "code",
   "execution_count": 11,
   "metadata": {},
   "outputs": [],
   "source": [
    "data.to_parquet('full_qanun_text.parquet', index=False)"
   ]
  },
  {
   "cell_type": "code",
   "execution_count": null,
   "metadata": {},
   "outputs": [],
   "source": []
  },
  {
   "cell_type": "raw",
   "metadata": {},
   "source": [
    "# Define the target string\n",
    "target_string = ''\n",
    "\n",
    "# Define a function to find implicit duplicates\n",
    "def find_implicit_duplicates(column, target_string, threshold=90):\n",
    "    # Extract similar strings\n",
    "    matches = process.extract(target_string, column, limit=None)\n",
    "    # Filter matches based on the threshold\n",
    "    duplicates = [match for match in matches if match[1] >= threshold]\n",
    "    return duplicates\n",
    "\n",
    "# Find duplicates in the 'document_type' column\n",
    "duplicates = find_implicit_duplicates(data['document_type'], target_string)\n",
    "\n",
    "# Use a set to store unique matches\n",
    "unique_matches = set()\n",
    "\n",
    "# Display the unique duplicates\n",
    "for match in duplicates:\n",
    "    if match[0] not in unique_matches:\n",
    "        unique_matches.add(match[0])\n",
    "        print(f\"Match: {match[0]}, Similarity: {match[1]}\")"
   ]
  },
  {
   "cell_type": "raw",
   "metadata": {},
   "source": [
    "%%time\n",
    "\n",
    "# Function to find duplicates based on Levenshtein distance\n",
    "def find_duplicates(strings, threshold=90):\n",
    "    unique_strings = pd.unique(strings)\n",
    "    duplicates = []\n",
    "    checked = set()  # To avoid checking the same string again\n",
    "    \n",
    "    for string in unique_strings:\n",
    "        if string in checked:\n",
    "            continue\n",
    "        # Use `extract` to find similar strings within a threshold\n",
    "        matches = process.extract(string, unique_strings, limit=None)\n",
    "        # Filter matches where the score is above the threshold and not the same string\n",
    "        close_matches = [match for match in matches if match[1] >= threshold and match[0] != string]\n",
    "        if close_matches:\n",
    "            duplicates.append((string, close_matches))\n",
    "            # Add matches to checked set\n",
    "            checked.update([match[0] for match in close_matches])\n",
    "        checked.add(string)\n",
    "    \n",
    "    return duplicates\n",
    "\n",
    "# Example usage with your data\n",
    "duplicates = find_duplicates(data['document_type'], threshold=90)\n",
    "\n",
    "# Display duplicates\n",
    "for original, matches in duplicates:\n",
    "    print(f\"Original: {original}\")\n",
    "    for match, score in matches:\n",
    "        print(f\"  Match: {match} with score {score}\")\n",
    "    print()"
   ]
  },
  {
   "cell_type": "raw",
   "metadata": {},
   "source": [
    "s = \"\"\n",
    "\n",
    "data.loc[data['document_type'] == s]"
   ]
  },
  {
   "cell_type": "raw",
   "metadata": {},
   "source": [
    "data.iloc[552613]['text']"
   ]
  },
  {
   "cell_type": "raw",
   "metadata": {},
   "source": [
    "# Manually construct the replacement dictionary\n",
    "replacement_dict = {\n",
    "    \"\": \"\"\n",
    "}\n",
    "\n",
    "# Replace the duplicates with the standardized form\n",
    "data['document_type'] = data['document_type'].replace(replacement_dict)\n",
    "\n",
    "# Display the resulting DataFrame\n",
    "print(\"Number of Unique Document Types:\")\n",
    "display(len(data['document_type'].value_counts()))"
   ]
  },
  {
   "cell_type": "raw",
   "metadata": {},
   "source": [
    "data.loc[data['document_type'].str.contains('milli məclis')]"
   ]
  },
  {
   "cell_type": "raw",
   "metadata": {},
   "source": [
    "data.loc[data['document_type'] == '']"
   ]
  },
  {
   "cell_type": "code",
   "execution_count": null,
   "metadata": {},
   "outputs": [],
   "source": []
  },
  {
   "cell_type": "raw",
   "metadata": {},
   "source": [
    "# Filter the DataFrame to exclude rows where the 'len' column is less than 40\n",
    "data = data[data['len'] >= 40]\n",
    "\n",
    "# Reset the index of the resulting DataFrame\n",
    "data.reset_index(drop=True, inplace=True)"
   ]
  },
  {
   "cell_type": "raw",
   "metadata": {},
   "source": [
    "# The exact string to be replaced\n",
    "long_string = '«azərbaycan respublikasının qanunlarında və digər normativ hüquqi aktlarında manatın denominasiyasının tətbiqi haqqında» azərbaycan respublikası qanununun icrasının təmin edilməsi barədə» azərbaycan respublikası prezidentinin sərəncamının icrası ilə əlaqədar azərbaycan respublikasının maliyyə nazirliyinin bəzi normativ hüquqi aktlarına dəyişikliklər edilməsi barədə'\n",
    "\n",
    "# Replace the exact string with \"qərar\"\n",
    "data['document_type'] = data['document_type'].str.replace(long_string, 'qərar')"
   ]
  },
  {
   "cell_type": "code",
   "execution_count": null,
   "metadata": {},
   "outputs": [],
   "source": []
  },
  {
   "cell_type": "markdown",
   "metadata": {},
   "source": [
    "## Old Preprocessing Version"
   ]
  },
  {
   "cell_type": "code",
   "execution_count": 8,
   "metadata": {},
   "outputs": [],
   "source": [
    "def del_symbols(data:str):\n",
    "    data = re.sub(r'[^a-zA-ZəƏıIöÖüÜğĞçÇşŞ]', ' ', data)\n",
    "    data = re.sub(r'\\s+', ' ', data)\n",
    "    return data"
   ]
  },
  {
   "cell_type": "code",
   "execution_count": 9,
   "metadata": {},
   "outputs": [
    {
     "data": {
      "text/html": [
       "<div>\n",
       "<style scoped>\n",
       "    .dataframe tbody tr th:only-of-type {\n",
       "        vertical-align: middle;\n",
       "    }\n",
       "\n",
       "    .dataframe tbody tr th {\n",
       "        vertical-align: top;\n",
       "    }\n",
       "\n",
       "    .dataframe thead th {\n",
       "        text-align: right;\n",
       "    }\n",
       "</style>\n",
       "<table border=\"1\" class=\"dataframe\">\n",
       "  <thead>\n",
       "    <tr style=\"text-align: right;\">\n",
       "      <th></th>\n",
       "      <th>text</th>\n",
       "      <th>len</th>\n",
       "      <th>document_name</th>\n",
       "      <th>document_type</th>\n",
       "    </tr>\n",
       "  </thead>\n",
       "  <tbody>\n",
       "    <tr>\n",
       "      <th>0</th>\n",
       "      <td>Azərbaycan Respublikası Mülki\\nMəcəlləsinin tə...</td>\n",
       "      <td>130</td>\n",
       "      <td>Azərbaycan Respublikası Mülki\\nMəcəlləsinin tə...</td>\n",
       "      <td>Azərbaycan RespublİkasINIn Qanunu [1]</td>\n",
       "    </tr>\n",
       "    <tr>\n",
       "      <th>1</th>\n",
       "      <td>Azərbaycan RespublİkasINIn Qanunu [1]</td>\n",
       "      <td>37</td>\n",
       "      <td>Azərbaycan Respublikası Mülki\\nMəcəlləsinin tə...</td>\n",
       "      <td>Azərbaycan RespublİkasINIn Qanunu [1]</td>\n",
       "    </tr>\n",
       "    <tr>\n",
       "      <th>2</th>\n",
       "      <td>Maddə\\n1</td>\n",
       "      <td>7</td>\n",
       "      <td>Azərbaycan Respublikası Mülki\\nMəcəlləsinin tə...</td>\n",
       "      <td>Azərbaycan RespublİkasINIn Qanunu [1]</td>\n",
       "    </tr>\n",
       "    <tr>\n",
       "      <th>3</th>\n",
       "      <td>Azərbaycan\\nRespublikasının Mülki Məcəlləsi tə...</td>\n",
       "      <td>58</td>\n",
       "      <td>Azərbaycan Respublikası Mülki\\nMəcəlləsinin tə...</td>\n",
       "      <td>Azərbaycan RespublİkasINIn Qanunu [1]</td>\n",
       "    </tr>\n",
       "    <tr>\n",
       "      <th>4</th>\n",
       "      <td>Maddə\\n2</td>\n",
       "      <td>7</td>\n",
       "      <td>Azərbaycan Respublikası Mülki\\nMəcəlləsinin tə...</td>\n",
       "      <td>Azərbaycan RespublİkasINIn Qanunu [1]</td>\n",
       "    </tr>\n",
       "    <tr>\n",
       "      <th>...</th>\n",
       "      <td>...</td>\n",
       "      <td>...</td>\n",
       "      <td>...</td>\n",
       "      <td>...</td>\n",
       "    </tr>\n",
       "    <tr>\n",
       "      <th>1404621</th>\n",
       "      <td>İsfəndiyar Bəxtiyar oğlu Vahabzadə Azərbaycan\\...</td>\n",
       "      <td>133</td>\n",
       "      <td>İ.B.Vahabzadənin\\nAzərbaycan Respublikasının M...</td>\n",
       "      <td>AZƏRBAYCAN\\nRESPUBLİKASI PREZİDENTİNİN SƏRƏNCAMI</td>\n",
       "    </tr>\n",
       "    <tr>\n",
       "      <th>1404622</th>\n",
       "      <td>İlham ƏLİYEV,</td>\n",
       "      <td>13</td>\n",
       "      <td>İ.B.Vahabzadənin\\nAzərbaycan Respublikasının M...</td>\n",
       "      <td>AZƏRBAYCAN\\nRESPUBLİKASI PREZİDENTİNİN SƏRƏNCAMI</td>\n",
       "    </tr>\n",
       "    <tr>\n",
       "      <th>1404623</th>\n",
       "      <td>Azərbaycan\\nRespublikasının Prezidenti</td>\n",
       "      <td>37</td>\n",
       "      <td>İ.B.Vahabzadənin\\nAzərbaycan Respublikasının M...</td>\n",
       "      <td>AZƏRBAYCAN\\nRESPUBLİKASI PREZİDENTİNİN SƏRƏNCAMI</td>\n",
       "    </tr>\n",
       "    <tr>\n",
       "      <th>1404624</th>\n",
       "      <td>Bakı şəhəri, 27 iyun 2005-ci il</td>\n",
       "      <td>31</td>\n",
       "      <td>İ.B.Vahabzadənin\\nAzərbaycan Respublikasının M...</td>\n",
       "      <td>AZƏRBAYCAN\\nRESPUBLİKASI PREZİDENTİNİN SƏRƏNCAMI</td>\n",
       "    </tr>\n",
       "    <tr>\n",
       "      <th>1404625</th>\n",
       "      <td>№ 863</td>\n",
       "      <td>5</td>\n",
       "      <td>İ.B.Vahabzadənin\\nAzərbaycan Respublikasının M...</td>\n",
       "      <td>AZƏRBAYCAN\\nRESPUBLİKASI PREZİDENTİNİN SƏRƏNCAMI</td>\n",
       "    </tr>\n",
       "  </tbody>\n",
       "</table>\n",
       "<p>1404626 rows × 4 columns</p>\n",
       "</div>"
      ],
      "text/plain": [
       "                                                      text  len  \\\n",
       "0        Azərbaycan Respublikası Mülki\\nMəcəlləsinin tə...  130   \n",
       "1                    Azərbaycan RespublİkasINIn Qanunu [1]   37   \n",
       "2                                                 Maddə\\n1    7   \n",
       "3        Azərbaycan\\nRespublikasının Mülki Məcəlləsi tə...   58   \n",
       "4                                                 Maddə\\n2    7   \n",
       "...                                                    ...  ...   \n",
       "1404621  İsfəndiyar Bəxtiyar oğlu Vahabzadə Azərbaycan\\...  133   \n",
       "1404622                                      İlham ƏLİYEV,   13   \n",
       "1404623             Azərbaycan\\nRespublikasının Prezidenti   37   \n",
       "1404624                    Bakı şəhəri, 27 iyun 2005-ci il   31   \n",
       "1404625                                              № 863    5   \n",
       "\n",
       "                                             document_name  \\\n",
       "0        Azərbaycan Respublikası Mülki\\nMəcəlləsinin tə...   \n",
       "1        Azərbaycan Respublikası Mülki\\nMəcəlləsinin tə...   \n",
       "2        Azərbaycan Respublikası Mülki\\nMəcəlləsinin tə...   \n",
       "3        Azərbaycan Respublikası Mülki\\nMəcəlləsinin tə...   \n",
       "4        Azərbaycan Respublikası Mülki\\nMəcəlləsinin tə...   \n",
       "...                                                    ...   \n",
       "1404621  İ.B.Vahabzadənin\\nAzərbaycan Respublikasının M...   \n",
       "1404622  İ.B.Vahabzadənin\\nAzərbaycan Respublikasının M...   \n",
       "1404623  İ.B.Vahabzadənin\\nAzərbaycan Respublikasının M...   \n",
       "1404624  İ.B.Vahabzadənin\\nAzərbaycan Respublikasının M...   \n",
       "1404625  İ.B.Vahabzadənin\\nAzərbaycan Respublikasının M...   \n",
       "\n",
       "                                            document_type  \n",
       "0                   Azərbaycan RespublİkasINIn Qanunu [1]  \n",
       "1                   Azərbaycan RespublİkasINIn Qanunu [1]  \n",
       "2                   Azərbaycan RespublİkasINIn Qanunu [1]  \n",
       "3                   Azərbaycan RespublİkasINIn Qanunu [1]  \n",
       "4                   Azərbaycan RespublİkasINIn Qanunu [1]  \n",
       "...                                                   ...  \n",
       "1404621  AZƏRBAYCAN\\nRESPUBLİKASI PREZİDENTİNİN SƏRƏNCAMI  \n",
       "1404622  AZƏRBAYCAN\\nRESPUBLİKASI PREZİDENTİNİN SƏRƏNCAMI  \n",
       "1404623  AZƏRBAYCAN\\nRESPUBLİKASI PREZİDENTİNİN SƏRƏNCAMI  \n",
       "1404624  AZƏRBAYCAN\\nRESPUBLİKASI PREZİDENTİNİN SƏRƏNCAMI  \n",
       "1404625  AZƏRBAYCAN\\nRESPUBLİKASI PREZİDENTİNİN SƏRƏNCAMI  \n",
       "\n",
       "[1404626 rows x 4 columns]"
      ]
     },
     "execution_count": 9,
     "metadata": {},
     "output_type": "execute_result"
    }
   ],
   "source": [
    "data"
   ]
  },
  {
   "cell_type": "code",
   "execution_count": 10,
   "metadata": {},
   "outputs": [
    {
     "name": "stderr",
     "output_type": "stream",
     "text": [
      "100%|█████████████████████████████████████████████████████████████████████| 1404626/1404626 [00:44<00:00, 31402.19it/s]\n",
      "100%|█████████████████████████████████████████████████████████████████████| 1404626/1404626 [00:47<00:00, 29684.28it/s]\n",
      "100%|█████████████████████████████████████████████████████████████████████| 1404626/1404626 [00:16<00:00, 83643.38it/s]\n"
     ]
    }
   ],
   "source": [
    "data[\"text\"] = data[\"text\"].progress_apply(del_symbols)\n",
    "data[\"document_name\"] = data[\"document_name\"].progress_apply(del_symbols)\n",
    "data[\"document_type\"] = data[\"document_type\"].progress_apply(del_symbols)\n",
    "data[\"len\"] = data[\"text\"].apply(lambda x: len(x.split()))"
   ]
  },
  {
   "cell_type": "code",
   "execution_count": 11,
   "metadata": {},
   "outputs": [],
   "source": [
    "data = data.loc[data[\"len\"] > 5].reset_index(drop=True)"
   ]
  },
  {
   "cell_type": "code",
   "execution_count": 12,
   "metadata": {},
   "outputs": [],
   "source": [
    "data = data.loc[data[\"text\"] != data[\"document_name\"]].reset_index(drop=True)\n",
    "data = data.loc[data[\"text\"] != data[\"document_type\"]].reset_index(drop=True)"
   ]
  },
  {
   "cell_type": "code",
   "execution_count": 16,
   "metadata": {},
   "outputs": [],
   "source": [
    "az_stopwords = list(stopwords.words(\"azerbaijani\"))\n",
    "az_stopwords.append(\"i\")\n",
    "az_stopwords.append(\"b\")"
   ]
  },
  {
   "cell_type": "code",
   "execution_count": 17,
   "metadata": {},
   "outputs": [],
   "source": [
    "def del_stopwords(data:str):\n",
    "    data = \" \".join([i for i in data.split() if i not in az_stopwords])\n",
    "    return data"
   ]
  },
  {
   "cell_type": "code",
   "execution_count": 18,
   "metadata": {},
   "outputs": [
    {
     "name": "stderr",
     "output_type": "stream",
     "text": [
      "100%|███████████████████████████████████████████████████████████████████████| 949282/949282 [01:11<00:00, 13290.84it/s]\n"
     ]
    }
   ],
   "source": [
    "data[\"text\"] = data[\"text\"].progress_apply(del_stopwords)\n",
    "data[\"len\"] = data[\"text\"].apply(lambda x: len(x.split()))"
   ]
  },
  {
   "cell_type": "code",
   "execution_count": 19,
   "metadata": {},
   "outputs": [
    {
     "data": {
      "text/html": [
       "<div>\n",
       "<style scoped>\n",
       "    .dataframe tbody tr th:only-of-type {\n",
       "        vertical-align: middle;\n",
       "    }\n",
       "\n",
       "    .dataframe tbody tr th {\n",
       "        vertical-align: top;\n",
       "    }\n",
       "\n",
       "    .dataframe thead th {\n",
       "        text-align: right;\n",
       "    }\n",
       "</style>\n",
       "<table border=\"1\" class=\"dataframe\">\n",
       "  <thead>\n",
       "    <tr style=\"text-align: right;\">\n",
       "      <th></th>\n",
       "      <th>text</th>\n",
       "      <th>len</th>\n",
       "      <th>document_name</th>\n",
       "      <th>document_type</th>\n",
       "    </tr>\n",
       "  </thead>\n",
       "  <tbody>\n",
       "    <tr>\n",
       "      <th>0</th>\n",
       "      <td>azərbaycan respublikasının mülki məcəlləsi təs...</td>\n",
       "      <td>6</td>\n",
       "      <td>azərbaycan respublikası mülki məcəlləsinin təs...</td>\n",
       "      <td>azərbaycan respubli kasinin qanunu</td>\n",
       "    </tr>\n",
       "    <tr>\n",
       "      <th>1</th>\n",
       "      <td>azərbaycan respublikasının mülki məcəlləsi qüv...</td>\n",
       "      <td>36</td>\n",
       "      <td>azərbaycan respublikası mülki məcəlləsinin təs...</td>\n",
       "      <td>azərbaycan respubli kasinin qanunu</td>\n",
       "    </tr>\n",
       "    <tr>\n",
       "      <th>2</th>\n",
       "      <td>azərbaycan respublikasının mülki məcəlləsinə d...</td>\n",
       "      <td>44</td>\n",
       "      <td>azərbaycan respublikası mülki məcəlləsinin təs...</td>\n",
       "      <td>azərbaycan respubli kasinin qanunu</td>\n",
       "    </tr>\n",
       "    <tr>\n",
       "      <th>3</th>\n",
       "      <td>azərbaycan ssr mülki mülki prosessual məcəlləl...</td>\n",
       "      <td>24</td>\n",
       "      <td>azərbaycan respublikası mülki məcəlləsinin təs...</td>\n",
       "      <td>azərbaycan respubli kasinin qanunu</td>\n",
       "    </tr>\n",
       "    <tr>\n",
       "      <th>4</th>\n",
       "      <td>azərbaycan ssr mülki mülki prosessual məcəlləl...</td>\n",
       "      <td>33</td>\n",
       "      <td>azərbaycan respublikası mülki məcəlləsinin təs...</td>\n",
       "      <td>azərbaycan respubli kasinin qanunu</td>\n",
       "    </tr>\n",
       "    <tr>\n",
       "      <th>...</th>\n",
       "      <td>...</td>\n",
       "      <td>...</td>\n",
       "      <td>...</td>\n",
       "      <td>...</td>\n",
       "    </tr>\n",
       "    <tr>\n",
       "      <th>949277</th>\n",
       "      <td>tofiq nadir oğlu zülfüqarov azərbaycan respubl...</td>\n",
       "      <td>13</td>\n",
       "      <td>t n zülfüqarovun azərbaycan respublikasının la...</td>\n",
       "      <td>azərbaycan respubli kasi prezi denti ni n sərə...</td>\n",
       "    </tr>\n",
       "    <tr>\n",
       "      <th>949278</th>\n",
       "      <td>azərbaycan respublikası konstitusiyasının madd...</td>\n",
       "      <td>9</td>\n",
       "      <td>azərbaycan respublikasının misir ərəb respubli...</td>\n",
       "      <td>azərbaycan respubli kasi prezi denti ni n sərə...</td>\n",
       "    </tr>\n",
       "    <tr>\n",
       "      <th>949279</th>\n",
       "      <td>azərbaycan respublikasının misir ərəb respubli...</td>\n",
       "      <td>31</td>\n",
       "      <td>azərbaycan respublikasının misir ərəb respubli...</td>\n",
       "      <td>azərbaycan respubli kasi prezi denti ni n sərə...</td>\n",
       "    </tr>\n",
       "    <tr>\n",
       "      <th>949280</th>\n",
       "      <td>azərbaycan respublikası konstitusiyasının madd...</td>\n",
       "      <td>9</td>\n",
       "      <td>i b vahabzadənin azərbaycan respublikasının mo...</td>\n",
       "      <td>azərbaycan respubli kasi prezi denti ni n sərə...</td>\n",
       "    </tr>\n",
       "    <tr>\n",
       "      <th>949281</th>\n",
       "      <td>sfəndiyar bəxtiyar oğlu vahabzadə azərbaycan r...</td>\n",
       "      <td>13</td>\n",
       "      <td>i b vahabzadənin azərbaycan respublikasının mo...</td>\n",
       "      <td>azərbaycan respubli kasi prezi denti ni n sərə...</td>\n",
       "    </tr>\n",
       "  </tbody>\n",
       "</table>\n",
       "<p>949282 rows × 4 columns</p>\n",
       "</div>"
      ],
      "text/plain": [
       "                                                     text  len  \\\n",
       "0       azərbaycan respublikasının mülki məcəlləsi təs...    6   \n",
       "1       azərbaycan respublikasının mülki məcəlləsi qüv...   36   \n",
       "2       azərbaycan respublikasının mülki məcəlləsinə d...   44   \n",
       "3       azərbaycan ssr mülki mülki prosessual məcəlləl...   24   \n",
       "4       azərbaycan ssr mülki mülki prosessual məcəlləl...   33   \n",
       "...                                                   ...  ...   \n",
       "949277  tofiq nadir oğlu zülfüqarov azərbaycan respubl...   13   \n",
       "949278  azərbaycan respublikası konstitusiyasının madd...    9   \n",
       "949279  azərbaycan respublikasının misir ərəb respubli...   31   \n",
       "949280  azərbaycan respublikası konstitusiyasının madd...    9   \n",
       "949281  sfəndiyar bəxtiyar oğlu vahabzadə azərbaycan r...   13   \n",
       "\n",
       "                                            document_name  \\\n",
       "0       azərbaycan respublikası mülki məcəlləsinin təs...   \n",
       "1       azərbaycan respublikası mülki məcəlləsinin təs...   \n",
       "2       azərbaycan respublikası mülki məcəlləsinin təs...   \n",
       "3       azərbaycan respublikası mülki məcəlləsinin təs...   \n",
       "4       azərbaycan respublikası mülki məcəlləsinin təs...   \n",
       "...                                                   ...   \n",
       "949277  t n zülfüqarovun azərbaycan respublikasının la...   \n",
       "949278  azərbaycan respublikasının misir ərəb respubli...   \n",
       "949279  azərbaycan respublikasının misir ərəb respubli...   \n",
       "949280  i b vahabzadənin azərbaycan respublikasının mo...   \n",
       "949281  i b vahabzadənin azərbaycan respublikasının mo...   \n",
       "\n",
       "                                            document_type  \n",
       "0                     azərbaycan respubli kasinin qanunu   \n",
       "1                     azərbaycan respubli kasinin qanunu   \n",
       "2                     azərbaycan respubli kasinin qanunu   \n",
       "3                     azərbaycan respubli kasinin qanunu   \n",
       "4                     azərbaycan respubli kasinin qanunu   \n",
       "...                                                   ...  \n",
       "949277  azərbaycan respubli kasi prezi denti ni n sərə...  \n",
       "949278  azərbaycan respubli kasi prezi denti ni n sərə...  \n",
       "949279  azərbaycan respubli kasi prezi denti ni n sərə...  \n",
       "949280  azərbaycan respubli kasi prezi denti ni n sərə...  \n",
       "949281  azərbaycan respubli kasi prezi denti ni n sərə...  \n",
       "\n",
       "[949282 rows x 4 columns]"
      ]
     },
     "execution_count": 19,
     "metadata": {},
     "output_type": "execute_result"
    }
   ],
   "source": [
    "data"
   ]
  },
  {
   "cell_type": "code",
   "execution_count": 20,
   "metadata": {},
   "outputs": [
    {
     "name": "stdout",
     "output_type": "stream",
     "text": [
      "<class 'pandas.core.frame.DataFrame'>\n",
      "RangeIndex: 949282 entries, 0 to 949281\n",
      "Data columns (total 4 columns):\n",
      " #   Column         Non-Null Count   Dtype \n",
      "---  ------         --------------   ----- \n",
      " 0   text           949282 non-null  object\n",
      " 1   len            949282 non-null  int64 \n",
      " 2   document_name  949282 non-null  object\n",
      " 3   document_type  949282 non-null  object\n",
      "dtypes: int64(1), object(3)\n",
      "memory usage: 29.0+ MB\n"
     ]
    }
   ],
   "source": [
    "data.info()"
   ]
  },
  {
   "cell_type": "code",
   "execution_count": null,
   "metadata": {},
   "outputs": [],
   "source": []
  },
  {
   "cell_type": "code",
   "execution_count": null,
   "metadata": {},
   "outputs": [],
   "source": []
  },
  {
   "cell_type": "code",
   "execution_count": null,
   "metadata": {},
   "outputs": [],
   "source": []
  }
 ],
 "metadata": {
  "kernelspec": {
   "display_name": "Python 3",
   "language": "python",
   "name": "python3"
  },
  "language_info": {
   "codemirror_mode": {
    "name": "ipython",
    "version": 3
   },
   "file_extension": ".py",
   "mimetype": "text/x-python",
   "name": "python",
   "nbconvert_exporter": "python",
   "pygments_lexer": "ipython3",
   "version": "3.7.3"
  }
 },
 "nbformat": 4,
 "nbformat_minor": 4
}
