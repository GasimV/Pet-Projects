{
 "cells": [
  {
   "cell_type": "markdown",
   "id": "da2b42b0-c740-49a7-a3b8-9388bb488507",
   "metadata": {
    "jp-MarkdownHeadingCollapsed": true
   },
   "source": [
    "## Testing the Environment"
   ]
  },
  {
   "cell_type": "raw",
   "id": "e15afc2d-6866-4208-909f-8bdca7f8700f",
   "metadata": {},
   "source": [
    "gpu_info = !nvidia-smi\n",
    "gpu_info = '\\n'.join(gpu_info)\n",
    "if gpu_info.find('failed') >= 0:\n",
    "  print('Not connected to a GPU')\n",
    "else:\n",
    "  print(gpu_info)"
   ]
  },
  {
   "cell_type": "code",
   "execution_count": 1,
   "id": "d21ee8a7-2276-4052-a09b-e21a2a56098c",
   "metadata": {},
   "outputs": [
    {
     "name": "stdout",
     "output_type": "stream",
     "text": [
      "datasets: ✅ Installed (version 3.5.0)\n"
     ]
    },
    {
     "name": "stderr",
     "output_type": "stream",
     "text": [
      "C:\\LLM Instruction Fine-Tuning\\.venv\\Lib\\site-packages\\transformers\\utils\\generic.py:441: FutureWarning: `torch.utils._pytree._register_pytree_node` is deprecated. Please use `torch.utils._pytree.register_pytree_node` instead.\n",
      "  _torch_pytree._register_pytree_node(\n"
     ]
    },
    {
     "name": "stdout",
     "output_type": "stream",
     "text": [
      "transformers: ✅ Installed (version 4.35.2)\n"
     ]
    },
    {
     "name": "stderr",
     "output_type": "stream",
     "text": [
      "W0424 09:13:53.203000 27580 Lib\\site-packages\\torch\\distributed\\elastic\\multiprocessing\\redirects.py:29] NOTE: Redirects are currently not supported in Windows or MacOs.\n",
      "C:\\LLM Instruction Fine-Tuning\\.venv\\Lib\\site-packages\\transformers\\utils\\generic.py:309: FutureWarning: `torch.utils._pytree._register_pytree_node` is deprecated. Please use `torch.utils._pytree.register_pytree_node` instead.\n",
      "  _torch_pytree._register_pytree_node(\n"
     ]
    },
    {
     "name": "stdout",
     "output_type": "stream",
     "text": [
      "accelerate: ✅ Installed (version 0.24.1)\n",
      "soundfile: ✅ Installed (version 0.13.1)\n",
      "librosa: ✅ Installed (version 0.11.0)\n"
     ]
    },
    {
     "name": "stderr",
     "output_type": "stream",
     "text": [
      "C:\\LLM Instruction Fine-Tuning\\.venv\\Lib\\site-packages\\transformers\\utils\\generic.py:309: FutureWarning: `torch.utils._pytree._register_pytree_node` is deprecated. Please use `torch.utils._pytree.register_pytree_node` instead.\n",
      "  _torch_pytree._register_pytree_node(\n"
     ]
    },
    {
     "name": "stdout",
     "output_type": "stream",
     "text": [
      "evaluate: ✅ Installed (version 0.4.3)\n",
      "jiwer: ✅ Installed (version unknown)\n",
      "tensorboard: ✅ Installed (version 2.19.0)\n",
      "gradio: ✅ Installed (version 5.25.0)\n"
     ]
    }
   ],
   "source": [
    "import importlib\n",
    "\n",
    "packages = [\n",
    "    \"datasets\", \"transformers\", \"accelerate\", \"soundfile\",\n",
    "    \"librosa\", \"evaluate\", \"jiwer\", \"tensorboard\", \"gradio\"\n",
    "]\n",
    "\n",
    "for pkg in packages:\n",
    "    try:\n",
    "        version = importlib.import_module(pkg).__version__\n",
    "        print(f\"{pkg}: ✅ Installed (version {version})\")\n",
    "    except ImportError:\n",
    "        print(f\"{pkg}: ❌ Not installed\")\n",
    "    except AttributeError:\n",
    "        print(f\"{pkg}: ✅ Installed (version unknown)\")"
   ]
  },
  {
   "cell_type": "code",
   "execution_count": 2,
   "id": "aed0f2ec-78ce-4851-af6f-cd8ed91bdccf",
   "metadata": {},
   "outputs": [
    {
     "name": "stdout",
     "output_type": "stream",
     "text": [
      "True\n"
     ]
    }
   ],
   "source": [
    "import torch\n",
    "print(torch.cuda.is_available())"
   ]
  },
  {
   "cell_type": "raw",
   "id": "07c0a452-6e94-4589-b2b7-4bf2e24788c7",
   "metadata": {},
   "source": [
    "from jiwer import wer\n",
    "\n",
    "# ground truth\n",
    "reference = \"this is a test\"\n",
    "# model output\n",
    "hypothesis = \"this is test\"\n",
    "\n",
    "print(\"WER:\", wer(reference, hypothesis))"
   ]
  },
  {
   "cell_type": "markdown",
   "id": "3c482c34-f28b-4556-800d-52c56dddbd6d",
   "metadata": {
    "jp-MarkdownHeadingCollapsed": true
   },
   "source": [
    "## Transcribing with whisper-large-v3 model the single long audio"
   ]
  },
  {
   "cell_type": "raw",
   "id": "30a74fc4-7daa-420f-b634-7aea39736493",
   "metadata": {},
   "source": [
    "import os\n",
    "from datasets import Dataset, Audio as HF_Audio\n",
    "from pydub import AudioSegment\n",
    "from stable_whisper import load_model  # from stable-ts\n",
    "import torch\n",
    "\n",
    "# 0. Check for GPU\n",
    "device = \"cuda\" if torch.cuda.is_available() else \"cpu\"\n",
    "print(f\"🚀 Using device: {device}\")\n",
    "\n",
    "# 1. Convert your MP3 to WAV (if needed)\n",
    "input_path = r\"C:\\OpenAI Whisper Fine-Tune\\raw_audio.mp3\"\n",
    "output_path = r\"C:\\OpenAI Whisper Fine-Tune\\raw_audio.wav\"\n",
    "\n",
    "if not os.path.exists(output_path):\n",
    "    audio = AudioSegment.from_file(input_path)\n",
    "    audio.export(output_path, format=\"wav\")\n",
    "    print(f\"🎵 Converted MP3 to WAV → {output_path}\")\n",
    "\n",
    "# 2. Load the Stable Whisper model with forced GPU\n",
    "model = load_model(\"large-v3\", device=device)  # ✅ FORCES GPU if available\n",
    "\n",
    "# 3. Transcribe with automatic chunking and timestamps\n",
    "result = model.transcribe(output_path, language=\"az\", regroup=True)\n",
    "\n",
    "# Optional: Show detailed segments\n",
    "for i, seg in enumerate(result.segments):\n",
    "    print(f\"[{seg.start:.2f} → {seg.end:.2f}] {seg.text}\")\n",
    "\n",
    "# 4. Join the full transcription\n",
    "full_text = result.text\n",
    "\n",
    "# 5. Save to 🤗 Hugging Face Dataset\n",
    "records = {\"audio\": [output_path], \"sentence\": [full_text]}\n",
    "ds = Dataset.from_dict(records)\n",
    "ds.save_to_disk(\"./az_transcription_dataset_full\")\n",
    "print(\"\\n✅ Saved transcription dataset to ./az_transcription_dataset_full\")"
   ]
  },
  {
   "cell_type": "raw",
   "id": "ba79348d-2a34-46ef-9059-bdf68eb73f42",
   "metadata": {},
   "source": [
    "from IPython.display import Audio\n",
    "from datasets import load_from_disk, Audio as HF_Audio\n",
    "\n",
    "# Load and cast the dataset\n",
    "ds = load_from_disk(\"./az_transcription_dataset_full\")\n",
    "ds = ds.cast_column(\"audio\", HF_Audio(sampling_rate=16000))\n",
    "\n",
    "# Preview the full audio and its transcription\n",
    "example = ds[0]\n",
    "print(\"▶️ Full Audio\")\n",
    "print(\"Transcription:\", example[\"sentence\"])\n",
    "display(Audio(example[\"audio\"][\"array\"], rate=example[\"audio\"][\"sampling_rate\"]))\n",
    "print(\"-\" * 60)"
   ]
  },
  {
   "cell_type": "raw",
   "id": "d449a9e1-9c76-46dd-bb4a-91a9b03dea58",
   "metadata": {},
   "source": [
    "from IPython.display import Audio\n",
    "\n",
    "# Preview first 5 examples (or however many you want)\n",
    "for i in range(5):\n",
    "    example = ds[i]\n",
    "    print(f\"▶️ Chunk {i}\")\n",
    "    print(\"Transcription:\", example[\"sentence\"])\n",
    "    display(Audio(example[\"audio\"][\"array\"], rate=example[\"audio\"][\"sampling_rate\"]))\n",
    "    print(\"-\" * 60)"
   ]
  },
  {
   "cell_type": "markdown",
   "id": "c85068b9-19b9-422a-b208-7a4c8ac22749",
   "metadata": {
    "jp-MarkdownHeadingCollapsed": true
   },
   "source": [
    "## Comparison with the Whisper-Small Model"
   ]
  },
  {
   "cell_type": "raw",
   "id": "5cc8768a-05b5-4259-b6cf-2f373ec15fbb",
   "metadata": {},
   "source": [
    "import os\n",
    "from datasets import Dataset, Audio as HF_Audio\n",
    "from pydub import AudioSegment\n",
    "from stable_whisper import load_model  # from stable-ts\n",
    "import torch\n",
    "\n",
    "# 0. Check for GPU\n",
    "device = \"cuda\" if torch.cuda.is_available() else \"cpu\"\n",
    "print(f\"🚀 Using device: {device}\")\n",
    "\n",
    "# 1. Convert your MP3 to WAV (if needed)\n",
    "input_path = r\"C:\\OpenAI Whisper Fine-Tune\\raw_audio.mp3\"\n",
    "output_path = r\"C:\\OpenAI Whisper Fine-Tune\\raw_audio.wav\"\n",
    "\n",
    "if not os.path.exists(output_path):\n",
    "    audio = AudioSegment.from_file(input_path)\n",
    "    audio.export(output_path, format=\"wav\")\n",
    "    print(f\"🎵 Converted MP3 to WAV → {output_path}\")\n",
    "\n",
    "# 2. Load the Stable Whisper model with forced GPU\n",
    "model = load_model(\"small\", device=device)  # ✅ FORCES GPU if available\n",
    "\n",
    "# 3. Transcribe with automatic chunking and timestamps\n",
    "result = model.transcribe(output_path, language=\"az\", regroup=True)\n",
    "\n",
    "# Optional: Show detailed segments\n",
    "for i, seg in enumerate(result.segments):\n",
    "    print(f\"[{seg.start:.2f} → {seg.end:.2f}] {seg.text}\")\n",
    "\n",
    "# 4. Join the full transcription\n",
    "full_text = result.text\n",
    "\n",
    "# 5. Save to 🤗 Hugging Face Dataset\n",
    "records = {\"audio\": [output_path], \"sentence\": [full_text]}\n",
    "ds = Dataset.from_dict(records)\n",
    "ds.save_to_disk(\"./az_transcription_dataset_small\")\n",
    "print(\"\\n✅ Saved transcription dataset to ./az_transcription_dataset_small\")"
   ]
  },
  {
   "cell_type": "raw",
   "id": "b0c113d8-6706-43c3-b259-264b48ef9a85",
   "metadata": {},
   "source": [
    "from IPython.display import Audio\n",
    "from datasets import load_from_disk, Audio as HF_Audio\n",
    "\n",
    "# Load and cast the dataset\n",
    "ds = load_from_disk(\"./az_transcription_dataset_small\")\n",
    "ds = ds.cast_column(\"audio\", HF_Audio(sampling_rate=16000))\n",
    "\n",
    "# Preview the full audio and its transcription\n",
    "example = ds[0]\n",
    "print(\"▶️ Full Audio\")\n",
    "print(\"Transcription:\", example[\"sentence\"])\n",
    "display(Audio(example[\"audio\"][\"array\"], rate=example[\"audio\"][\"sampling_rate\"]))\n",
    "print(\"-\" * 60)"
   ]
  },
  {
   "cell_type": "markdown",
   "id": "763166ff-0f12-42f7-ad9c-43334b3faade",
   "metadata": {},
   "source": [
    "📌 **Conclusion**  \n",
    "\n",
    "In this step, we transcribed the same Azerbaijani audio using both the **Whisper Large-v3** and **Whisper Small** models via `stable-ts`. The comparison revealed that the **Whisper Small model's output was significantly less accurate** than that of the **Large-v3** model. However, this gap presents a great opportunity: by using the high-quality transcriptions from the Large-v3 model as reference data, we can **fine-tune the Small model** to significantly improve its performance — especially for transcription tasks in under-resourced languages like Azerbaijani."
   ]
  },
  {
   "cell_type": "markdown",
   "id": "ce33e114-c057-4153-a111-336962f55bea",
   "metadata": {},
   "source": [
    "## Fine-Tuning Whisper-Small"
   ]
  },
  {
   "cell_type": "markdown",
   "id": "48476471-69f4-484b-8b0e-1239e090c851",
   "metadata": {
    "jp-MarkdownHeadingCollapsed": true
   },
   "source": [
    "### Chop long audio into segments using the time stamps"
   ]
  },
  {
   "cell_type": "raw",
   "id": "95110d4e-b7d0-4599-99a4-1e1f0dcea932",
   "metadata": {},
   "source": [
    "import os\n",
    "import torch\n",
    "import soundfile as sf\n",
    "from pydub import AudioSegment\n",
    "from datasets import Dataset, Audio\n",
    "from stable_whisper import load_model  # stable-ts\n",
    "\n",
    "# 0. Device\n",
    "device = \"cuda\" if torch.cuda.is_available() else \"cpu\"\n",
    "print(\"🚀 Using device:\", device)\n",
    "\n",
    "# 1. MP3 → WAV (if needed)\n",
    "input_path  = r\"C:\\OpenAI Whisper Fine-Tune\\raw_audio.mp3\"\n",
    "output_path = r\"C:\\OpenAI Whisper Fine-Tune\\raw_audio.wav\"\n",
    "\n",
    "if not os.path.exists(output_path):\n",
    "    audio_mp3 = AudioSegment.from_file(input_path)\n",
    "    audio_mp3.export(output_path, format=\"wav\")\n",
    "    print(\"Converted MP3 → WAV\")\n",
    "\n",
    "# 2. Load the raw wave into a NumPy array\n",
    "audio_arr, sr = sf.read(output_path, dtype=\"float32\")\n",
    "print(f\"Loaded WAV, {audio_arr.shape[0]/sr:.1f}s at {sr} Hz\")\n",
    "\n",
    "# 3. Transcribe with stable-ts\n",
    "model = load_model(\"large-v3\", device=device)\n",
    "result = model.transcribe(output_path, language=\"az\", regroup=True)\n",
    "\n",
    "# 4. Chop into segments using the time stamps\n",
    "records = []\n",
    "for seg in result.segments:\n",
    "    start, end, txt = seg.start, seg.end, seg.text.strip()\n",
    "    s_idx, e_idx = int(start * sr), int(end * sr)\n",
    "    clip = audio_arr[s_idx:e_idx]\n",
    "    records.append({\n",
    "        \"audio\": {\"array\": clip, \"sampling_rate\": sr},\n",
    "        \"sentence\": txt\n",
    "    })\n",
    "\n",
    "# 5. Build a Hugging Face Dataset of many short examples\n",
    "ds = Dataset.from_list(records)\n",
    "ds = ds.cast_column(\"audio\", Audio(sampling_rate=16_000))\n",
    "\n",
    "# 6. Inspect & save\n",
    "print(ds)           # you'll see e.g.  hundred rows of ~2–30 s clips\n",
    "print(\"Example:\", ds[0])\n",
    "ds.save_to_disk(\"./az_transcription_dataset_segments\")\n",
    "print(\"✅ Saved segmented dataset.\")"
   ]
  },
  {
   "cell_type": "markdown",
   "id": "5d7c64ad-95fa-4d18-bad6-c0b0ba06a44a",
   "metadata": {},
   "source": [
    "### Fine-Tuning"
   ]
  },
  {
   "cell_type": "code",
   "execution_count": 1,
   "id": "0ecceba3-f67c-45e0-91dc-cd8d081ba5c9",
   "metadata": {},
   "outputs": [
    {
     "name": "stdout",
     "output_type": "stream",
     "text": [
      "🚀 Using device: cuda\n"
     ]
    },
    {
     "name": "stderr",
     "output_type": "stream",
     "text": [
      "C:\\LLM Instruction Fine-Tuning\\.venv\\Lib\\site-packages\\transformers\\utils\\generic.py:441: FutureWarning: `torch.utils._pytree._register_pytree_node` is deprecated. Please use `torch.utils._pytree.register_pytree_node` instead.\n",
      "  _torch_pytree._register_pytree_node(\n",
      "C:\\LLM Instruction Fine-Tuning\\.venv\\Lib\\site-packages\\transformers\\utils\\generic.py:309: FutureWarning: `torch.utils._pytree._register_pytree_node` is deprecated. Please use `torch.utils._pytree.register_pytree_node` instead.\n",
      "  _torch_pytree._register_pytree_node(\n",
      "W0424 16:36:00.320000 9828 Lib\\site-packages\\torch\\distributed\\elastic\\multiprocessing\\redirects.py:29] NOTE: Redirects are currently not supported in Windows or MacOs.\n",
      "C:\\LLM Instruction Fine-Tuning\\.venv\\Lib\\site-packages\\transformers\\utils\\generic.py:309: FutureWarning: `torch.utils._pytree._register_pytree_node` is deprecated. Please use `torch.utils._pytree.register_pytree_node` instead.\n",
      "  _torch_pytree._register_pytree_node(\n"
     ]
    },
    {
     "name": "stdout",
     "output_type": "stream",
     "text": [
      "Dataset({\n",
      "    features: ['audio', 'sentence'],\n",
      "    num_rows: 1618\n",
      "})\n"
     ]
    },
    {
     "name": "stderr",
     "output_type": "stream",
     "text": [
      "C:\\LLM Instruction Fine-Tuning\\.venv\\Lib\\site-packages\\huggingface_hub\\file_download.py:896: FutureWarning: `resume_download` is deprecated and will be removed in version 1.0.0. Downloads always resume when possible. If you want to force a new download, use `force_download=True`.\n",
      "  warnings.warn(\n",
      "Special tokens have been added in the vocabulary, make sure the associated word embeddings are fine-tuned or trained.\n",
      "Special tokens have been added in the vocabulary, make sure the associated word embeddings are fine-tuned or trained.\n"
     ]
    },
    {
     "data": {
      "application/vnd.jupyter.widget-view+json": {
       "model_id": "f8b3d6f8921a43358d7eeae85e9b3303",
       "version_major": 2,
       "version_minor": 0
      },
      "text/plain": [
       "Map:   0%|          | 0/1618 [00:00<?, ? examples/s]"
      ]
     },
     "metadata": {},
     "output_type": "display_data"
    },
    {
     "name": "stderr",
     "output_type": "stream",
     "text": [
      "C:\\LLM Instruction Fine-Tuning\\.venv\\Lib\\site-packages\\huggingface_hub\\file_download.py:896: FutureWarning: `resume_download` is deprecated and will be removed in version 1.0.0. Downloads always resume when possible. If you want to force a new download, use `force_download=True`.\n",
      "  warnings.warn(\n",
      "C:\\LLM Instruction Fine-Tuning\\.venv\\Lib\\site-packages\\accelerate\\accelerator.py:439: FutureWarning: `torch.cuda.amp.GradScaler(args...)` is deprecated. Please use `torch.amp.GradScaler('cuda', args...)` instead.\n",
      "  self.scaler = torch.cuda.amp.GradScaler(**kwargs)\n"
     ]
    },
    {
     "data": {
      "text/html": [
       "\n",
       "    <div>\n",
       "      \n",
       "      <progress value='500' max='500' style='width:300px; height:20px; vertical-align: middle;'></progress>\n",
       "      [500/500 20:00, Epoch 5/6]\n",
       "    </div>\n",
       "    <table border=\"1\" class=\"dataframe\">\n",
       "  <thead>\n",
       " <tr style=\"text-align: left;\">\n",
       "      <th>Step</th>\n",
       "      <th>Training Loss</th>\n",
       "      <th>Validation Loss</th>\n",
       "      <th>Wer</th>\n",
       "    </tr>\n",
       "  </thead>\n",
       "  <tbody>\n",
       "    <tr>\n",
       "      <td>100</td>\n",
       "      <td>0.608200</td>\n",
       "      <td>0.725551</td>\n",
       "      <td>0.602782</td>\n",
       "    </tr>\n",
       "    <tr>\n",
       "      <td>200</td>\n",
       "      <td>0.159100</td>\n",
       "      <td>0.714373</td>\n",
       "      <td>0.863988</td>\n",
       "    </tr>\n",
       "    <tr>\n",
       "      <td>300</td>\n",
       "      <td>0.064500</td>\n",
       "      <td>0.737078</td>\n",
       "      <td>0.547141</td>\n",
       "    </tr>\n",
       "    <tr>\n",
       "      <td>400</td>\n",
       "      <td>0.021000</td>\n",
       "      <td>0.739818</td>\n",
       "      <td>0.528594</td>\n",
       "    </tr>\n",
       "    <tr>\n",
       "      <td>500</td>\n",
       "      <td>0.009600</td>\n",
       "      <td>0.750181</td>\n",
       "      <td>0.528594</td>\n",
       "    </tr>\n",
       "  </tbody>\n",
       "</table><p>"
      ],
      "text/plain": [
       "<IPython.core.display.HTML object>"
      ]
     },
     "metadata": {},
     "output_type": "display_data"
    },
    {
     "name": "stderr",
     "output_type": "stream",
     "text": [
      "There were missing keys in the checkpoint model loaded: ['proj_out.weight'].\n"
     ]
    },
    {
     "data": {
      "text/plain": [
       "TrainOutput(global_step=500, training_loss=0.36935254165530207, metrics={'train_runtime': 1203.1897, 'train_samples_per_second': 6.649, 'train_steps_per_second': 0.416, 'total_flos': 2.30868320256e+18, 'train_loss': 0.36935254165530207, 'epoch': 5.49})"
      ]
     },
     "execution_count": 1,
     "metadata": {},
     "output_type": "execute_result"
    }
   ],
   "source": [
    "# 1. Check for GPU\n",
    "import torch\n",
    "print(\"🚀 Using device:\", \"cuda\" if torch.cuda.is_available() else \"cpu\")\n",
    "\n",
    "# 2. Install dependencies (uncomment if running in a fresh environment)\n",
    "# !pip install -q datasets>=2.6.1 transformers>=4.30.0 accelerate librosa evaluate jiwer soundfile\n",
    "\n",
    "# 3. Imports\n",
    "import os\n",
    "from datasets import load_from_disk, Audio\n",
    "from transformers import (\n",
    "    WhisperFeatureExtractor,\n",
    "    WhisperTokenizer,\n",
    "    WhisperProcessor,\n",
    "    WhisperForConditionalGeneration,\n",
    "    Seq2SeqTrainingArguments,\n",
    "    Seq2SeqTrainer,\n",
    ")\n",
    "import evaluate\n",
    "from dataclasses import dataclass\n",
    "from typing import Any, Dict, List, Union\n",
    "import torch\n",
    "\n",
    "# 4. Load your dataset\n",
    "ds = load_from_disk(\"./az_transcription_dataset_segments\")\n",
    "print(ds)\n",
    "\n",
    "# 5. Cast audio column to the 16 kHz Whisper format\n",
    "ds = ds.cast_column(\"audio\", Audio(sampling_rate=16_000))\n",
    "\n",
    "# 6. Load Whisper processor for \"small\" and set to Azerbaijani\n",
    "feature_extractor = WhisperFeatureExtractor.from_pretrained(\"openai/whisper-small\")\n",
    "tokenizer = WhisperTokenizer.from_pretrained(\n",
    "    \"openai/whisper-small\",\n",
    "    language=\"Azerbaijani\",   # Whisper’s language token\n",
    "    task=\"transcribe\"\n",
    ")\n",
    "processor = WhisperProcessor.from_pretrained(\n",
    "    \"openai/whisper-small\",\n",
    "    language=\"Azerbaijani\",\n",
    "    task=\"transcribe\"\n",
    ")\n",
    "\n",
    "# 7. Prepare the dataset: compute log-Mel inputs and tokenize transcripts\n",
    "def prepare_batch(batch):\n",
    "    # load + resample audio\n",
    "    audio_arr = batch[\"audio\"][\"array\"]\n",
    "    sr = batch[\"audio\"][\"sampling_rate\"]\n",
    "    # feature extraction\n",
    "    features = feature_extractor(audio_arr, sampling_rate=sr).input_features[0]\n",
    "    # tokenize\n",
    "    labels = tokenizer(batch[\"sentence\"]).input_ids\n",
    "    return {\"input_features\": features, \"labels\": labels}\n",
    "\n",
    "ds = ds.map(\n",
    "    prepare_batch,\n",
    "    remove_columns=ds.column_names,\n",
    "    num_proc=1\n",
    ")\n",
    "\n",
    "# Split into train & test sets\n",
    "ds = ds.train_test_split(test_size=0.1, seed=42)\n",
    "train_ds, eval_ds = ds[\"train\"], ds[\"test\"]\n",
    "\n",
    "# 8. Data collator to batch and pad correctly\n",
    "@dataclass\n",
    "class DataCollatorSpeechSeq2SeqWithPadding:\n",
    "    processor: Any  # the WhisperProcessor\n",
    "\n",
    "    def __call__(self, features: List[Dict[str, Union[List[int], torch.Tensor]]]) -> Dict[str, torch.Tensor]:\n",
    "        # separate audio inputs and labels since they have to be of different lengths and need different padding methods\n",
    "        # first treat the audio inputs by simply returning torch tensors\n",
    "        inputs = [{\"input_features\": feature[\"input_features\"]} for feature in features]\n",
    "        batch = self.processor.feature_extractor.pad(inputs, return_tensors=\"pt\")\n",
    "\n",
    "        # get the tokenized label sequences\n",
    "        label_features = [{\"input_ids\": feature[\"labels\"]} for feature in features]\n",
    "        # pad the labels to max length\n",
    "        label_batch = self.processor.tokenizer.pad(label_features, return_tensors=\"pt\")\n",
    "\n",
    "        # replace padding with -100 to ignore loss correctly\n",
    "        labels = label_batch[\"input_ids\"].masked_fill(label_batch.attention_mask.ne(1), -100)\n",
    "        \n",
    "        # remove leading bos (beginning of a sentence) if present:\n",
    "        # if bos token is appended in previous tokenization step,\n",
    "        # cut bos token here as it's append later anyways\n",
    "        if (labels[:, 0] == self.processor.tokenizer.bos_token_id).all().cpu().item():\n",
    "            labels = labels[:, 1:]\n",
    "\n",
    "        batch[\"labels\"] = labels\n",
    "        \n",
    "        return batch\n",
    "\n",
    "data_collator = DataCollatorSpeechSeq2SeqWithPadding(processor=processor)\n",
    "\n",
    "# 9. Load WER metric\n",
    "wer_metric = evaluate.load(\"wer\")\n",
    "\n",
    "# We need to craft a function that processes our model predictions and calculates the WER metric. \n",
    "# This function, named `compute_metrics`, initially substitutes `-100` with the `pad_token_id` in the `label_ids`, \n",
    "# reversing the adjustment made in the data collator to accurately exclude padded tokens from the loss calculation. \n",
    "# Subsequently, it translates the predicted and label ids into strings. \n",
    "# Ultimately, it determines the WER by comparing the predictions with the reference labels:\n",
    "def compute_metrics(pred):\n",
    "    pred_ids = pred.predictions\n",
    "    label_ids = pred.label_ids\n",
    "    label_ids[label_ids == -100] = tokenizer.pad_token_id\n",
    "\n",
    "    pred_str = tokenizer.batch_decode(pred_ids, skip_special_tokens=True)\n",
    "    label_str = tokenizer.batch_decode(label_ids, skip_special_tokens=True)\n",
    "    wer = wer_metric.compute(predictions=pred_str, references=label_str)\n",
    "    \n",
    "    return {\"wer\": wer}\n",
    "\n",
    "# 10. Load the pretrained Whisper-Small model\n",
    "model = WhisperForConditionalGeneration.from_pretrained(\"openai/whisper-small\")\n",
    "model.generation_config.language = \"az\" # Set decoding language\n",
    "\n",
    "# Adjust generation parameters - no tokens are predetermined as decoder outputs, and no tokens are excluded during the generation process\n",
    "model.config.forced_decoder_ids = None\n",
    "model.config.suppress_tokens = []\n",
    "\n",
    "# 11. Setup training arguments\n",
    "training_args = Seq2SeqTrainingArguments(\n",
    "    output_dir=\"./whisper-az-small-finetuned\",\n",
    "    per_device_train_batch_size=4,\n",
    "    per_device_eval_batch_size=4,\n",
    "    gradient_accumulation_steps=4,\n",
    "    learning_rate=5e-5,\n",
    "    warmup_steps=10,\n",
    "    max_steps=500,\n",
    "    evaluation_strategy=\"steps\",\n",
    "    eval_steps=100,\n",
    "    save_steps=100,\n",
    "    logging_steps=20,\n",
    "    fp16=True,\n",
    "    predict_with_generate=True,\n",
    "    generation_max_length=225,\n",
    "    load_best_model_at_end=True,\n",
    "    metric_for_best_model=\"wer\",\n",
    "    greater_is_better=False,\n",
    "    push_to_hub=False,\n",
    ")\n",
    "\n",
    "# 12. Initialize Trainer\n",
    "trainer = Seq2SeqTrainer(\n",
    "    model=model,\n",
    "    args=training_args,\n",
    "    train_dataset=train_ds,\n",
    "    eval_dataset=eval_ds,\n",
    "    data_collator=data_collator,\n",
    "    tokenizer=processor.tokenizer, # repo uses \"tokenizer=processor.feature_extractor\", but it could be wrong!\n",
    "    compute_metrics=compute_metrics,\n",
    ")\n",
    "\n",
    "# 13. Save processor (necessary for inference)\n",
    "processor.save_pretrained(training_args.output_dir)\n",
    "\n",
    "# 14. Launch training\n",
    "trainer.train()"
   ]
  },
  {
   "cell_type": "code",
   "execution_count": null,
   "id": "42558d42-4b9f-431a-a96f-f08aca89936b",
   "metadata": {},
   "outputs": [],
   "source": []
  },
  {
   "cell_type": "code",
   "execution_count": null,
   "id": "aef34000-07f0-4c6a-8d16-fe122ada0b91",
   "metadata": {},
   "outputs": [],
   "source": []
  }
 ],
 "metadata": {
  "kernelspec": {
   "display_name": "Python 3.11 (LLM)",
   "language": "python",
   "name": "llm-py311"
  },
  "language_info": {
   "codemirror_mode": {
    "name": "ipython",
    "version": 3
   },
   "file_extension": ".py",
   "mimetype": "text/x-python",
   "name": "python",
   "nbconvert_exporter": "python",
   "pygments_lexer": "ipython3",
   "version": "3.11.0"
  }
 },
 "nbformat": 4,
 "nbformat_minor": 5
}
