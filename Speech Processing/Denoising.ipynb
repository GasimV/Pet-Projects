{
 "cells": [
  {
   "cell_type": "code",
   "execution_count": null,
   "metadata": {},
   "outputs": [],
   "source": [
    "#pip install denoiser\n",
    "#pip install soundfile\n",
    "# Install FFmpeg from \"https://ffmpeg.org/download.html\" and add to the System PATH"
   ]
  },
  {
   "cell_type": "code",
   "execution_count": null,
   "metadata": {},
   "outputs": [],
   "source": [
    "import ffmpeg\n",
    "\n",
    "input_file = \"noisy_audio.m4a\"\n",
    "output_file = \"noisy_audio.wav\"\n",
    "\n",
    "ffmpeg.input(input_file).output(output_file).run()"
   ]
  },
  {
   "cell_type": "code",
   "execution_count": null,
   "metadata": {
    "id": "QpmR5Wl_b6cT"
   },
   "outputs": [],
   "source": [
    "import torch\n",
    "from denoiser import pretrained\n",
    "from denoiser.dsp import convert_audio\n",
    "import torchaudio\n",
    "\n",
    "# Load model to GPU if available\n",
    "device = torch.device(\"cuda\" if torch.cuda.is_available() else \"cpu\")\n",
    "model = pretrained.dns64().to(device)"
   ]
  },
  {
   "cell_type": "code",
   "execution_count": null,
   "metadata": {
    "colab": {
     "base_uri": "https://localhost:8080/",
     "height": 73
    },
    "id": "ECPsVS2Od3fy",
    "outputId": "85f10dbd-26a7-4e65-818e-b1c6b3f556f3"
   },
   "outputs": [],
   "source": [
    "#from google.colab import files\n",
    "\n",
    "#uploaded = files.upload()  # This opens a file picker to upload p232_010.wav"
   ]
  },
  {
   "cell_type": "code",
   "execution_count": null,
   "metadata": {
    "id": "cyHgoln7d8np"
   },
   "outputs": [],
   "source": [
    "wav, sr = torchaudio.load(\"noisy_audio.wav\")\n",
    "wav = convert_audio(wav, sr, model.sample_rate, model.chin)\n",
    "\n",
    "with torch.no_grad():\n",
    "    enhanced = model(wav.to(device))\n",
    "\n",
    "# If output shape is [batch, channels, time], squeeze the batch dimension\n",
    "enhanced = enhanced.squeeze(0)  # From [1, C, T] → [C, T]\n",
    "\n",
    "# Then save it\n",
    "torchaudio.save(\"denoised_audio.wav\", enhanced.cpu(), model.sample_rate)"
   ]
  },
  {
   "cell_type": "code",
   "execution_count": null,
   "metadata": {
    "colab": {
     "base_uri": "https://localhost:8080/",
     "height": 17
    },
    "id": "umoeDOv6eVHU",
    "outputId": "01879fae-13db-4da5-a564-b40ff52b0de8"
   },
   "outputs": [],
   "source": [
    "#from google.colab import files\n",
    "#files.download(\"enhanced_audio.wav\")"
   ]
  },
  {
   "cell_type": "code",
   "execution_count": null,
   "metadata": {
    "id": "1sUQv9EWeVu3"
   },
   "outputs": [],
   "source": []
  }
 ],
 "metadata": {
  "accelerator": "GPU",
  "colab": {
   "gpuType": "T4",
   "provenance": []
  },
  "kernelspec": {
   "display_name": "Python 3",
   "language": "python",
   "name": "python3"
  },
  "language_info": {
   "codemirror_mode": {
    "name": "ipython",
    "version": 3
   },
   "file_extension": ".py",
   "mimetype": "text/x-python",
   "name": "python",
   "nbconvert_exporter": "python",
   "pygments_lexer": "ipython3",
   "version": "3.7.3"
  }
 },
 "nbformat": 4,
 "nbformat_minor": 1
}
