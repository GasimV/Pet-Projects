{
 "cells": [
  {
   "cell_type": "markdown",
   "id": "d3ae5890-2cd5-416b-9936-bcd8739c03a0",
   "metadata": {},
   "source": [
    "## Gemini API"
   ]
  },
  {
   "cell_type": "code",
   "execution_count": 1,
   "id": "1bb00c05-9e09-4edd-867a-0bd6a2cc55db",
   "metadata": {},
   "outputs": [],
   "source": [
    "# pip install google-genai"
   ]
  },
  {
   "cell_type": "code",
   "execution_count": null,
   "id": "1781c77a-ff14-41d0-a6f9-44f0b1d83c6a",
   "metadata": {},
   "outputs": [],
   "source": [
    "import os\n",
    "import time\n",
    "from dotenv import load_dotenv\n",
    "from google import genai\n",
    "\n",
    "# === ENV SETUP ===\n",
    "load_dotenv()\n",
    "API_KEY = os.getenv(\"GEMINI_API_KEY\")\n",
    "\n",
    "client = genai.Client(api_key=API_KEY)\n",
    "\n",
    "# === CONFIGURATION ===\n",
    "AUDIO_DIR = r\"C:\\...\\Audio-Data\"\n",
    "OUTPUT_DIR = os.path.join(AUDIO_DIR, \"transcripts\")\n",
    "MODEL = \"models/gemini-2.5-flash\"\n",
    "DELAY_BETWEEN_REQUESTS = 6  # seconds (for Free Tier: 10 RPM)\n",
    "\n",
    "os.makedirs(OUTPUT_DIR, exist_ok=True)\n",
    "\n",
    "# === TRANSCRIBE FUNCTION WITH RETRY & RATE LIMIT ===\n",
    "def transcribe_audio(file_path):\n",
    "    try:\n",
    "        print(f\"📤 Uploading {file_path}\")\n",
    "        uploaded = client.files.upload(file=file_path)\n",
    "\n",
    "        print(\"⏳ Transcribing...\")\n",
    "        response = client.models.generate_content(\n",
    "            model=MODEL,\n",
    "            contents=[\n",
    "                \"Transcribe this call center audio with timestamps [00:00] and speakers 'Speaker:' and 'Operator:'.\",\n",
    "                uploaded\n",
    "            ]\n",
    "        )\n",
    "        return response.text\n",
    "\n",
    "    except Exception as e:\n",
    "        print(f\"❌ Error processing {file_path}: {e}\")\n",
    "        return None\n",
    "\n",
    "# === MAIN LOOP ===\n",
    "for filename in os.listdir(AUDIO_DIR):\n",
    "    if not filename.lower().endswith(\".wav\"):\n",
    "        continue\n",
    "\n",
    "    audio_path = os.path.join(AUDIO_DIR, filename)\n",
    "    output_path = os.path.join(OUTPUT_DIR, os.path.splitext(filename)[0] + \".txt\")\n",
    "\n",
    "    # Skip if already transcribed\n",
    "    if os.path.exists(output_path):\n",
    "        print(f\"✅ Already done: {filename}\")\n",
    "        continue\n",
    "\n",
    "    transcription = transcribe_audio(audio_path)\n",
    "\n",
    "    if transcription:\n",
    "        with open(output_path, \"w\", encoding=\"utf-8\") as f:\n",
    "            f.write(transcription)\n",
    "        print(f\"✅ Saved: {output_path}\")\n",
    "    else:\n",
    "        print(f\"⚠️ Failed to transcribe: {filename}\")\n",
    "\n",
    "    # Respect rate limits\n",
    "    print(f\"🕒 Sleeping {DELAY_BETWEEN_REQUESTS}s to respect rate limit...\")\n",
    "    time.sleep(DELAY_BETWEEN_REQUESTS)"
   ]
  }
 ],
 "metadata": {
  "kernelspec": {
   "display_name": "Python 3.12.3 (CUDA GPU)",
   "language": "python",
   "name": "cuda_gpu_env"
  },
  "language_info": {
   "codemirror_mode": {
    "name": "ipython",
    "version": 3
   },
   "file_extension": ".py",
   "mimetype": "text/x-python",
   "name": "python",
   "nbconvert_exporter": "python",
   "pygments_lexer": "ipython3",
   "version": "3.12.3"
  }
 },
 "nbformat": 4,
 "nbformat_minor": 5
}
