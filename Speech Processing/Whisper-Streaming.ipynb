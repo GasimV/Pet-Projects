{
 "cells": [
  {
   "cell_type": "markdown",
   "id": "71367faf-c757-4906-a736-b42b573d3419",
   "metadata": {
    "jp-MarkdownHeadingCollapsed": true
   },
   "source": [
    "## English"
   ]
  },
  {
   "cell_type": "code",
   "execution_count": null,
   "id": "cd2c84b3-09dc-46ad-9659-4119e07e96c5",
   "metadata": {},
   "outputs": [],
   "source": [
    "import gradio as gr\n",
    "from transformers import pipeline\n",
    "import numpy as np\n",
    "\n",
    "transcriber = pipeline(\"automatic-speech-recognition\", model=\"openai/whisper-large-v3\")\n",
    "\n",
    "def transcribe(state, new_chunk):\n",
    "    if state is None:\n",
    "        stream = np.array([], dtype=np.float32)\n",
    "        previous_text = \"\"\n",
    "    else:\n",
    "        stream, previous_text = state\n",
    "\n",
    "    sr, y = new_chunk\n",
    "    duration = len(y) / sr\n",
    "    y = y.astype(np.float32)\n",
    "    y /= np.max(np.abs(y))\n",
    "\n",
    "    overlap = int(sr * 0.5)  # Half a second overlap\n",
    "    if len(stream) > 0:\n",
    "        stream = np.concatenate([stream[-overlap:], y])\n",
    "    else:\n",
    "        stream = y\n",
    "\n",
    "    # Transcribe the current chunk\n",
    "    new_text = transcriber({\"sampling_rate\": sr, \"raw\": stream})[\"text\"]\n",
    "\n",
    "    # Update the previous text based on the overlap\n",
    "    if len(previous_text) > 0:\n",
    "        overlap_text = previous_text[-int(len(previous_text) * 0.1):]  # Last 10% of previous text\n",
    "        combined_text = previous_text[:-len(overlap_text)] + new_text\n",
    "    else:\n",
    "        combined_text = new_text\n",
    "\n",
    "    return (stream, combined_text), combined_text\n",
    "\n",
    "demo = gr.Interface(\n",
    "    transcribe,\n",
    "    [\"state\", gr.Audio(sources=[\"microphone\"], streaming=True)],\n",
    "    [\"state\", \"text\"],\n",
    "    live=True,\n",
    ")\n",
    "\n",
    "demo.launch(debug=True)"
   ]
  },
  {
   "cell_type": "markdown",
   "id": "c8d077c5-d494-426a-b549-57155f0c7b69",
   "metadata": {},
   "source": [
    "## Azerbaijani"
   ]
  },
  {
   "cell_type": "code",
   "execution_count": null,
   "id": "8fc5c447-4f77-4540-a739-1170fa41197f",
   "metadata": {},
   "outputs": [],
   "source": [
    "import gradio as gr\n",
    "from transformers import pipeline\n",
    "import numpy as np\n",
    "\n",
    "transcriber = pipeline(\"automatic-speech-recognition\", model=\"openai/whisper-large-v3\")\n",
    "\n",
    "def transcribe(state, new_chunk):\n",
    "    if state is None:\n",
    "        stream = np.array([], dtype=np.float32)\n",
    "        previous_text = \"\"\n",
    "    else:\n",
    "        stream, previous_text = state\n",
    "\n",
    "    sr, y = new_chunk\n",
    "    duration = len(y) / sr\n",
    "    y = y.astype(np.float32)\n",
    "    y /= np.max(np.abs(y))\n",
    "\n",
    "    overlap = int(sr * 0.5)  # Half a second overlap\n",
    "    if len(stream) > 0:\n",
    "        stream = np.concatenate([stream[-overlap:], y])\n",
    "    else:\n",
    "        stream = y\n",
    "\n",
    "    # ✅ Specify Azerbaijani language\n",
    "    new_text = transcriber({\n",
    "        \"sampling_rate\": sr,\n",
    "        \"raw\": stream,\n",
    "        \"language\": \"az\"\n",
    "    })[\"text\"]\n",
    "\n",
    "    # Update the previous text based on the overlap\n",
    "    if len(previous_text) > 0:\n",
    "        overlap_text = previous_text[-int(len(previous_text) * 0.1):]  # Last 10% of previous text\n",
    "        combined_text = previous_text[:-len(overlap_text)] + new_text\n",
    "    else:\n",
    "        combined_text = new_text\n",
    "\n",
    "    return (stream, combined_text), combined_text\n",
    "\n",
    "demo = gr.Interface(\n",
    "    transcribe,\n",
    "    [\"state\", gr.Audio(sources=[\"microphone\"], streaming=True)],\n",
    "    [\"state\", \"text\"],\n",
    "    live=True,\n",
    ")\n",
    "\n",
    "demo.launch(debug=True)"
   ]
  },
  {
   "cell_type": "code",
   "execution_count": null,
   "id": "ed92f711-15ed-410b-8dc4-5c0a01a57fb2",
   "metadata": {},
   "outputs": [],
   "source": []
  }
 ],
 "metadata": {
  "kernelspec": {
   "display_name": "Python 3.11 (LLM)",
   "language": "python",
   "name": "llm-py311"
  },
  "language_info": {
   "codemirror_mode": {
    "name": "ipython",
    "version": 3
   },
   "file_extension": ".py",
   "mimetype": "text/x-python",
   "name": "python",
   "nbconvert_exporter": "python",
   "pygments_lexer": "ipython3",
   "version": "3.11.0"
  }
 },
 "nbformat": 4,
 "nbformat_minor": 5
}
